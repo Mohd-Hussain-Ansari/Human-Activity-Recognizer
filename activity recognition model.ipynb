{
 "cells": [
  {
   "cell_type": "markdown",
   "metadata": {},
   "source": [
    "## Imports"
   ]
  },
  {
   "cell_type": "code",
   "execution_count": 28,
   "metadata": {},
   "outputs": [],
   "source": [
    "import pandas as pd\n",
    "import numpy as np\n",
    "import matplotlib.pyplot as plt\n",
    "import seaborn as sns\n",
    "import tensorflow as tf\n",
    "from scipy import stats\n",
    "from sklearn import metrics\n",
    "\n",
    "\n",
    "import warnings\n",
    "warnings.filterwarnings('ignore')"
   ]
  },
  {
   "cell_type": "markdown",
   "metadata": {},
   "source": [
    "## Info of datasets"
   ]
  },
  {
   "cell_type": "markdown",
   "metadata": {},
   "source": [
    "There are 7 activities in this dataset: Biking, Downstairs, Jogging, Sitting, Standing, Upstairs, Walking. \n",
    "There were ten participants involved in data collection experiment who performed  each of these activities for 3-4 minutes.\n",
    "All ten participants were male, between the ages of 25 and 30. \n",
    "Each of these participants was equipped with five smartphones on five body positions: \n",
    "\n",
    "1. One in their right jean’s pocket. \n",
    "2. One in their left jean’s pocket.\n",
    "3. One on belt position towards the right leg using a belt clipper.\n",
    "4. One on the right upper arm. \n",
    "5. One on the right wrist.\n",
    "\n",
    "The data was collected for an accelerometer, a gyroscope, a magnetometer, and a linear acceleration sensor. \n",
    "Each csv file contains data for each participant's seven physical activities for all five positions. \n",
    "\n",
    "Notation in these files: \n",
    "\n",
    "Accelerometer ( Ax = x-axis, Ay = y-axis, Az= Z-aixs)   \n",
    "Linear Acceleration Sensor ( Lx = x-axis, Ly = y axis, Lz= Z-aixs)   \n",
    "Gyroscope ( Gx = x-axis, Gy = y-axis, Gz= Z-aixs)   \n",
    "Magnetometer ( Mx = x-axis, My = y-axis, Mz= Z-aixs) "
   ]
  },
  {
   "cell_type": "markdown",
   "metadata": {},
   "source": [
    "## Loading and preparing train and test data"
   ]
  },
  {
   "cell_type": "markdown",
   "metadata": {},
   "source": [
    "We load all 10 participants data into a single dataframe:\n"
   ]
  },
  {
   "cell_type": "code",
   "execution_count": 29,
   "metadata": {},
   "outputs": [
    {
     "data": {
      "text/html": [
       "<div>\n",
       "<style scoped>\n",
       "    .dataframe tbody tr th:only-of-type {\n",
       "        vertical-align: middle;\n",
       "    }\n",
       "\n",
       "    .dataframe tbody tr th {\n",
       "        vertical-align: top;\n",
       "    }\n",
       "\n",
       "    .dataframe thead th {\n",
       "        text-align: right;\n",
       "    }\n",
       "</style>\n",
       "<table border=\"1\" class=\"dataframe\">\n",
       "  <thead>\n",
       "    <tr style=\"text-align: right;\">\n",
       "      <th></th>\n",
       "      <th>time_stamp</th>\n",
       "      <th>Ax</th>\n",
       "      <th>Ay</th>\n",
       "      <th>Az</th>\n",
       "      <th>Lx</th>\n",
       "      <th>Ly</th>\n",
       "      <th>Lz</th>\n",
       "      <th>Gx</th>\n",
       "      <th>Gy</th>\n",
       "      <th>Gz</th>\n",
       "      <th>...</th>\n",
       "      <th>Lx.4</th>\n",
       "      <th>Ly.4</th>\n",
       "      <th>Lz.4</th>\n",
       "      <th>Gx.4</th>\n",
       "      <th>Gy.4</th>\n",
       "      <th>Gz.4</th>\n",
       "      <th>Mx.4</th>\n",
       "      <th>My.4</th>\n",
       "      <th>Mz.4</th>\n",
       "      <th>Unnamed: 69</th>\n",
       "    </tr>\n",
       "  </thead>\n",
       "  <tbody>\n",
       "    <tr>\n",
       "      <th>0</th>\n",
       "      <td>1.390000e+12</td>\n",
       "      <td>-1.81150</td>\n",
       "      <td>-14.873</td>\n",
       "      <td>-1.34840</td>\n",
       "      <td>-1.26910</td>\n",
       "      <td>-5.1057</td>\n",
       "      <td>-0.66445</td>\n",
       "      <td>-0.53206</td>\n",
       "      <td>-3.18690</td>\n",
       "      <td>0.23976</td>\n",
       "      <td>...</td>\n",
       "      <td>-5.3574</td>\n",
       "      <td>-0.95749</td>\n",
       "      <td>0.318860</td>\n",
       "      <td>0.52565</td>\n",
       "      <td>-0.18815</td>\n",
       "      <td>0.285880</td>\n",
       "      <td>-22.20</td>\n",
       "      <td>6.48</td>\n",
       "      <td>4.56</td>\n",
       "      <td>walking</td>\n",
       "    </tr>\n",
       "    <tr>\n",
       "      <th>1</th>\n",
       "      <td>1.390000e+12</td>\n",
       "      <td>0.24517</td>\n",
       "      <td>-14.070</td>\n",
       "      <td>-0.84446</td>\n",
       "      <td>0.70147</td>\n",
       "      <td>-4.2969</td>\n",
       "      <td>-0.17199</td>\n",
       "      <td>-0.25229</td>\n",
       "      <td>-1.79660</td>\n",
       "      <td>0.40745</td>\n",
       "      <td>...</td>\n",
       "      <td>-4.5352</td>\n",
       "      <td>-0.67629</td>\n",
       "      <td>0.081656</td>\n",
       "      <td>0.43616</td>\n",
       "      <td>0.16371</td>\n",
       "      <td>0.198230</td>\n",
       "      <td>-21.90</td>\n",
       "      <td>7.14</td>\n",
       "      <td>5.34</td>\n",
       "      <td>walking</td>\n",
       "    </tr>\n",
       "    <tr>\n",
       "      <th>2</th>\n",
       "      <td>1.390000e+12</td>\n",
       "      <td>-0.57205</td>\n",
       "      <td>-14.628</td>\n",
       "      <td>-1.75700</td>\n",
       "      <td>-0.21760</td>\n",
       "      <td>-4.8531</td>\n",
       "      <td>-1.05650</td>\n",
       "      <td>-1.04920</td>\n",
       "      <td>0.29138</td>\n",
       "      <td>0.29230</td>\n",
       "      <td>...</td>\n",
       "      <td>-4.0408</td>\n",
       "      <td>-0.55974</td>\n",
       "      <td>-0.523690</td>\n",
       "      <td>0.32284</td>\n",
       "      <td>0.43127</td>\n",
       "      <td>0.211970</td>\n",
       "      <td>-21.60</td>\n",
       "      <td>7.50</td>\n",
       "      <td>5.64</td>\n",
       "      <td>walking</td>\n",
       "    </tr>\n",
       "    <tr>\n",
       "      <th>3</th>\n",
       "      <td>1.390000e+12</td>\n",
       "      <td>-0.69464</td>\n",
       "      <td>-12.939</td>\n",
       "      <td>-3.09180</td>\n",
       "      <td>-0.32273</td>\n",
       "      <td>-3.1786</td>\n",
       "      <td>-2.21970</td>\n",
       "      <td>-2.37200</td>\n",
       "      <td>1.00820</td>\n",
       "      <td>0.34972</td>\n",
       "      <td>...</td>\n",
       "      <td>-3.5908</td>\n",
       "      <td>0.15795</td>\n",
       "      <td>-1.880200</td>\n",
       "      <td>0.20403</td>\n",
       "      <td>0.72846</td>\n",
       "      <td>0.164930</td>\n",
       "      <td>-21.12</td>\n",
       "      <td>8.40</td>\n",
       "      <td>6.12</td>\n",
       "      <td>walking</td>\n",
       "    </tr>\n",
       "    <tr>\n",
       "      <th>4</th>\n",
       "      <td>1.390000e+12</td>\n",
       "      <td>0.87170</td>\n",
       "      <td>-12.000</td>\n",
       "      <td>-1.56630</td>\n",
       "      <td>1.13740</td>\n",
       "      <td>-2.2390</td>\n",
       "      <td>-0.65476</td>\n",
       "      <td>-2.79010</td>\n",
       "      <td>0.65485</td>\n",
       "      <td>0.22724</td>\n",
       "      <td>...</td>\n",
       "      <td>-1.9450</td>\n",
       "      <td>0.85796</td>\n",
       "      <td>-2.995300</td>\n",
       "      <td>0.09896</td>\n",
       "      <td>0.94379</td>\n",
       "      <td>0.064752</td>\n",
       "      <td>-20.94</td>\n",
       "      <td>8.70</td>\n",
       "      <td>6.30</td>\n",
       "      <td>walking</td>\n",
       "    </tr>\n",
       "  </tbody>\n",
       "</table>\n",
       "<p>5 rows × 70 columns</p>\n",
       "</div>"
      ],
      "text/plain": [
       "     time_stamp       Ax      Ay       Az       Lx      Ly       Lz       Gx  \\\n",
       "0  1.390000e+12 -1.81150 -14.873 -1.34840 -1.26910 -5.1057 -0.66445 -0.53206   \n",
       "1  1.390000e+12  0.24517 -14.070 -0.84446  0.70147 -4.2969 -0.17199 -0.25229   \n",
       "2  1.390000e+12 -0.57205 -14.628 -1.75700 -0.21760 -4.8531 -1.05650 -1.04920   \n",
       "3  1.390000e+12 -0.69464 -12.939 -3.09180 -0.32273 -3.1786 -2.21970 -2.37200   \n",
       "4  1.390000e+12  0.87170 -12.000 -1.56630  1.13740 -2.2390 -0.65476 -2.79010   \n",
       "\n",
       "        Gy       Gz  ...    Lx.4     Ly.4      Lz.4     Gx.4     Gy.4  \\\n",
       "0 -3.18690  0.23976  ... -5.3574 -0.95749  0.318860  0.52565 -0.18815   \n",
       "1 -1.79660  0.40745  ... -4.5352 -0.67629  0.081656  0.43616  0.16371   \n",
       "2  0.29138  0.29230  ... -4.0408 -0.55974 -0.523690  0.32284  0.43127   \n",
       "3  1.00820  0.34972  ... -3.5908  0.15795 -1.880200  0.20403  0.72846   \n",
       "4  0.65485  0.22724  ... -1.9450  0.85796 -2.995300  0.09896  0.94379   \n",
       "\n",
       "       Gz.4   Mx.4  My.4  Mz.4  Unnamed: 69  \n",
       "0  0.285880 -22.20  6.48  4.56      walking  \n",
       "1  0.198230 -21.90  7.14  5.34      walking  \n",
       "2  0.211970 -21.60  7.50  5.64      walking  \n",
       "3  0.164930 -21.12  8.40  6.12      walking  \n",
       "4  0.064752 -20.94  8.70  6.30      walking  \n",
       "\n",
       "[5 rows x 70 columns]"
      ]
     },
     "execution_count": 29,
     "metadata": {},
     "output_type": "execute_result"
    }
   ],
   "source": [
    "df = pd.DataFrame()\n",
    "for i in range(10):\n",
    "    df_tmp = pd.read_csv('DataSet/Participant_' + str(i+1) + '.csv', header=1)\n",
    "    df = pd.concat([df, df_tmp])\n",
    "\n",
    "# View top 5 rows of dataframe\n",
    "df.head()"
   ]
  },
  {
   "cell_type": "markdown",
   "metadata": {},
   "source": [
    "Now we split data into train and test sets (80% train, 20% test):\n"
   ]
  },
  {
   "cell_type": "code",
   "execution_count": 30,
   "metadata": {},
   "outputs": [
    {
     "name": "stdout",
     "output_type": "stream",
     "text": [
      "Number of train spamples:  504000\n",
      "Number of test spamples:  126000\n"
     ]
    }
   ],
   "source": [
    "split_point = int(len(df) * 0.8)\n",
    "train_data = df.iloc[:split_point, :]\n",
    "test_data = df.iloc[split_point:, :]\n",
    "\n",
    "print(\"Number of train spamples: \", len(train_data))\n",
    "print(\"Number of test spamples: \", len(test_data))"
   ]
  },
  {
   "cell_type": "markdown",
   "metadata": {},
   "source": [
    "As we only use right pocket's and left pocket's data, we should concatenate those into a single data frame:"
   ]
  },
  {
   "cell_type": "code",
   "execution_count": 31,
   "metadata": {},
   "outputs": [],
   "source": [
    "def concat(data):\n",
    "    \n",
    "    # Select left pocket data\n",
    "    left_pocket = data.iloc[:,1:10]\n",
    "    \n",
    "    #Square root of sum of squares of accelerometer, linear acceleration and gyroscope data\n",
    "    left_pocket[\"MA\"] = np.sqrt(np.square(left_pocket['Ax']) + np.square(left_pocket['Ay']) + np.square(left_pocket['Az']))\n",
    "    left_pocket[\"ML\"] = np.sqrt(np.square(left_pocket['Lx']) + np.square(left_pocket['Ly']) + np.square(left_pocket['Lz']))\n",
    "    left_pocket[\"MG\"] = np.sqrt(np.square(left_pocket['Gx']) + np.square(left_pocket['Gy']) + np.square(left_pocket['Gz']))\n",
    "    \n",
    "\n",
    "    # Select right pocket data\n",
    "    right_pocket = data.iloc[:,15:24]\n",
    "    right_pocket.columns=['Ax', 'Ay', 'Az', 'Lx', 'Ly', 'Lz', 'Gx', 'Gy', 'Gz']\n",
    "    \n",
    "    #Square root of sum of squares of accelerometer, linear acceleration and gyroscope data\n",
    "    right_pocket[\"MA\"] = np.sqrt(np.square(right_pocket['Ax']) + np.square(right_pocket['Ay']) + np.square(right_pocket['Az']))\n",
    "    right_pocket[\"ML\"] = np.sqrt(np.square(right_pocket['Lx']) + np.square(right_pocket['Ly']) + np.square(right_pocket['Lz']))\n",
    "    right_pocket[\"MG\"] = np.sqrt(np.square(right_pocket['Gx']) + np.square(right_pocket['Gy']) + np.square(right_pocket['Gz']))\n",
    "\n",
    "    \n",
    "    # Extract labels \n",
    "    labels = data.iloc[:, 69] \n",
    "    labels = labels.to_frame()\n",
    "    labels.columns=['Activity_Label']\n",
    "    labels = pd.concat([labels]*2, ignore_index=True)\n",
    "    #replace typo 'upsatirs' with upstairs! \n",
    "    labels.loc[(labels['Activity_Label'] == 'upsatirs')] = 'upstairs'\n",
    "    \n",
    "    #Concatenate left pocket and right pocket data into a single data frame (we only use left pocket and right pocket data)\n",
    "    frames = [left_pocket, right_pocket]\n",
    "    df = pd.concat(frames)\n",
    "   \n",
    "    return df, labels\n",
    "\n",
    "# Generate input data and labels\n",
    "train_X, train_y = concat(train_data)\n",
    "test_X, test_y = concat(test_data)"
   ]
  },
  {
   "cell_type": "code",
   "execution_count": 32,
   "metadata": {},
   "outputs": [
    {
     "data": {
      "text/html": [
       "<div>\n",
       "<style scoped>\n",
       "    .dataframe tbody tr th:only-of-type {\n",
       "        vertical-align: middle;\n",
       "    }\n",
       "\n",
       "    .dataframe tbody tr th {\n",
       "        vertical-align: top;\n",
       "    }\n",
       "\n",
       "    .dataframe thead th {\n",
       "        text-align: right;\n",
       "    }\n",
       "</style>\n",
       "<table border=\"1\" class=\"dataframe\">\n",
       "  <thead>\n",
       "    <tr style=\"text-align: right;\">\n",
       "      <th></th>\n",
       "      <th>Ax</th>\n",
       "      <th>Ay</th>\n",
       "      <th>Az</th>\n",
       "      <th>Lx</th>\n",
       "      <th>Ly</th>\n",
       "      <th>Lz</th>\n",
       "      <th>Gx</th>\n",
       "      <th>Gy</th>\n",
       "      <th>Gz</th>\n",
       "      <th>MA</th>\n",
       "      <th>ML</th>\n",
       "      <th>MG</th>\n",
       "    </tr>\n",
       "  </thead>\n",
       "  <tbody>\n",
       "    <tr>\n",
       "      <th>0</th>\n",
       "      <td>-1.81150</td>\n",
       "      <td>-14.873</td>\n",
       "      <td>-1.34840</td>\n",
       "      <td>-1.26910</td>\n",
       "      <td>-5.1057</td>\n",
       "      <td>-0.66445</td>\n",
       "      <td>-0.53206</td>\n",
       "      <td>-3.18690</td>\n",
       "      <td>0.23976</td>\n",
       "      <td>15.043465</td>\n",
       "      <td>5.302856</td>\n",
       "      <td>3.239893</td>\n",
       "    </tr>\n",
       "    <tr>\n",
       "      <th>1</th>\n",
       "      <td>0.24517</td>\n",
       "      <td>-14.070</td>\n",
       "      <td>-0.84446</td>\n",
       "      <td>0.70147</td>\n",
       "      <td>-4.2969</td>\n",
       "      <td>-0.17199</td>\n",
       "      <td>-0.25229</td>\n",
       "      <td>-1.79660</td>\n",
       "      <td>0.40745</td>\n",
       "      <td>14.097451</td>\n",
       "      <td>4.357177</td>\n",
       "      <td>1.859419</td>\n",
       "    </tr>\n",
       "    <tr>\n",
       "      <th>2</th>\n",
       "      <td>-0.57205</td>\n",
       "      <td>-14.628</td>\n",
       "      <td>-1.75700</td>\n",
       "      <td>-0.21760</td>\n",
       "      <td>-4.8531</td>\n",
       "      <td>-1.05650</td>\n",
       "      <td>-1.04920</td>\n",
       "      <td>0.29138</td>\n",
       "      <td>0.29230</td>\n",
       "      <td>14.744242</td>\n",
       "      <td>4.971531</td>\n",
       "      <td>1.127458</td>\n",
       "    </tr>\n",
       "    <tr>\n",
       "      <th>3</th>\n",
       "      <td>-0.69464</td>\n",
       "      <td>-12.939</td>\n",
       "      <td>-3.09180</td>\n",
       "      <td>-0.32273</td>\n",
       "      <td>-3.1786</td>\n",
       "      <td>-2.21970</td>\n",
       "      <td>-2.37200</td>\n",
       "      <td>1.00820</td>\n",
       "      <td>0.34972</td>\n",
       "      <td>13.321392</td>\n",
       "      <td>3.890337</td>\n",
       "      <td>2.600991</td>\n",
       "    </tr>\n",
       "    <tr>\n",
       "      <th>4</th>\n",
       "      <td>0.87170</td>\n",
       "      <td>-12.000</td>\n",
       "      <td>-1.56630</td>\n",
       "      <td>1.13740</td>\n",
       "      <td>-2.2390</td>\n",
       "      <td>-0.65476</td>\n",
       "      <td>-2.79010</td>\n",
       "      <td>0.65485</td>\n",
       "      <td>0.22724</td>\n",
       "      <td>12.133143</td>\n",
       "      <td>2.595286</td>\n",
       "      <td>2.874913</td>\n",
       "    </tr>\n",
       "  </tbody>\n",
       "</table>\n",
       "</div>"
      ],
      "text/plain": [
       "        Ax      Ay       Az       Lx      Ly       Lz       Gx       Gy  \\\n",
       "0 -1.81150 -14.873 -1.34840 -1.26910 -5.1057 -0.66445 -0.53206 -3.18690   \n",
       "1  0.24517 -14.070 -0.84446  0.70147 -4.2969 -0.17199 -0.25229 -1.79660   \n",
       "2 -0.57205 -14.628 -1.75700 -0.21760 -4.8531 -1.05650 -1.04920  0.29138   \n",
       "3 -0.69464 -12.939 -3.09180 -0.32273 -3.1786 -2.21970 -2.37200  1.00820   \n",
       "4  0.87170 -12.000 -1.56630  1.13740 -2.2390 -0.65476 -2.79010  0.65485   \n",
       "\n",
       "        Gz         MA        ML        MG  \n",
       "0  0.23976  15.043465  5.302856  3.239893  \n",
       "1  0.40745  14.097451  4.357177  1.859419  \n",
       "2  0.29230  14.744242  4.971531  1.127458  \n",
       "3  0.34972  13.321392  3.890337  2.600991  \n",
       "4  0.22724  12.133143  2.595286  2.874913  "
      ]
     },
     "execution_count": 32,
     "metadata": {},
     "output_type": "execute_result"
    }
   ],
   "source": [
    "train_X.head()"
   ]
  },
  {
   "cell_type": "code",
   "execution_count": 33,
   "metadata": {},
   "outputs": [
    {
     "data": {
      "text/html": [
       "<div>\n",
       "<style scoped>\n",
       "    .dataframe tbody tr th:only-of-type {\n",
       "        vertical-align: middle;\n",
       "    }\n",
       "\n",
       "    .dataframe tbody tr th {\n",
       "        vertical-align: top;\n",
       "    }\n",
       "\n",
       "    .dataframe thead th {\n",
       "        text-align: right;\n",
       "    }\n",
       "</style>\n",
       "<table border=\"1\" class=\"dataframe\">\n",
       "  <thead>\n",
       "    <tr style=\"text-align: right;\">\n",
       "      <th></th>\n",
       "      <th>Activity_Label</th>\n",
       "    </tr>\n",
       "  </thead>\n",
       "  <tbody>\n",
       "    <tr>\n",
       "      <th>0</th>\n",
       "      <td>walking</td>\n",
       "    </tr>\n",
       "    <tr>\n",
       "      <th>1</th>\n",
       "      <td>walking</td>\n",
       "    </tr>\n",
       "    <tr>\n",
       "      <th>2</th>\n",
       "      <td>walking</td>\n",
       "    </tr>\n",
       "    <tr>\n",
       "      <th>3</th>\n",
       "      <td>walking</td>\n",
       "    </tr>\n",
       "    <tr>\n",
       "      <th>4</th>\n",
       "      <td>walking</td>\n",
       "    </tr>\n",
       "  </tbody>\n",
       "</table>\n",
       "</div>"
      ],
      "text/plain": [
       "  Activity_Label\n",
       "0        walking\n",
       "1        walking\n",
       "2        walking\n",
       "3        walking\n",
       "4        walking"
      ]
     },
     "execution_count": 33,
     "metadata": {},
     "output_type": "execute_result"
    }
   ],
   "source": [
    "train_y.head()"
   ]
  },
  {
   "cell_type": "markdown",
   "metadata": {},
   "source": [
    "Next we use sliding window mechanism to generate data segments.\n",
    "We use Accelerometer, Linear acceleration and Gyroscope features and their sum of squares roots:\n"
   ]
  },
  {
   "cell_type": "code",
   "execution_count": 34,
   "metadata": {},
   "outputs": [],
   "source": [
    "N_TIME_STEPS = 100 #sliding window length\n",
    "STEP = 50 #Sliding window step size\n",
    "N_FEATURES = 12 \n",
    "\n",
    "def generate_sequence(x, y, n_time_steps, step):\n",
    "    \n",
    "    segments = []\n",
    "    labels = []\n",
    "    for i in range(0, len(x) - n_time_steps, step):\n",
    "        ax = x['Ax'].values[i: i + n_time_steps]\n",
    "        ay = x['Ay'].values[i: i + n_time_steps]\n",
    "        az = x['Az'].values[i: i + n_time_steps]\n",
    "\n",
    "        lx = x['Lx'].values[i: i + n_time_steps]\n",
    "        ly = x['Ly'].values[i: i + n_time_steps]\n",
    "        lz = x['Lz'].values[i: i + n_time_steps]\n",
    "        \n",
    "        gx = x['Gx'].values[i: i + n_time_steps]\n",
    "        gy = x['Gy'].values[i: i + n_time_steps]\n",
    "        gz = x['Gz'].values[i: i + n_time_steps]\n",
    "\n",
    "        MA = x['MA'].values[i: i + n_time_steps]\n",
    "        ML = x['ML'].values[i: i + n_time_steps]\n",
    "        MG = x['MG'].values[i: i + n_time_steps]\n",
    "       \n",
    "        label = stats.mode(y['Activity_Label'][i: i + n_time_steps])[0][0]\n",
    "        segments.append([ax, ay, az, lx, ly, lz, gx, gy, gz, MA, ML, MG])\n",
    "        labels.append(label)\n",
    "        \n",
    "    return segments, labels\n",
    "\n",
    "train_X, train_y = generate_sequence(train_X, train_y, N_TIME_STEPS, STEP)\n",
    "test_X, test_y = generate_sequence(test_X, test_y, N_TIME_STEPS, STEP)"
   ]
  },
  {
   "cell_type": "code",
   "execution_count": 35,
   "metadata": {},
   "outputs": [],
   "source": [
    "# reshape input segments and one-hot encode labels\n",
    "def reshape_segments(x, y, n_time_steps, n_features):\n",
    "    \n",
    "    x_reshaped = np.asarray(x, dtype= np.float32).reshape(-1, n_time_steps, n_features)\n",
    "    y_reshaped = np.asarray(pd.get_dummies(y), dtype = np.float32)\n",
    "    return x_reshaped, y_reshaped\n",
    "\n",
    "X_train, y_train = reshape_segments(train_X, train_y, N_TIME_STEPS, N_FEATURES)\n",
    "X_test, y_test = reshape_segments(test_X, test_y, N_TIME_STEPS, N_FEATURES)"
   ]
  },
  {
   "cell_type": "markdown",
   "metadata": {},
   "source": [
    "## Building the model"
   ]
  },
  {
   "cell_type": "code",
   "execution_count": 36,
   "metadata": {},
   "outputs": [],
   "source": [
    "from keras.regularizers import l2\n",
    "from keras.models import Sequential\n",
    "from keras.layers import Dense\n",
    "from keras.layers import LSTM\n",
    "from keras.layers import Flatten\n",
    "from tensorflow.keras import optimizers\n",
    "\n",
    "N_CLASSES = 7\n",
    "N_HIDDEN_UNITS = 32\n",
    "L2 = 0.000001\n",
    "\n",
    "model = Sequential([\n",
    "    LSTM(N_HIDDEN_UNITS, return_sequences=True, input_shape=(N_TIME_STEPS, N_FEATURES), \n",
    "         kernel_initializer='orthogonal', kernel_regularizer=l2(L2), recurrent_regularizer=l2(L2),\n",
    "         bias_regularizer=l2(L2), name=\"LSTM_1\"),\n",
    "    Flatten(name='Flatten'),\n",
    "    Dense(N_HIDDEN_UNITS, activation='relu', kernel_regularizer=l2(L2), bias_regularizer=l2(L2), name=\"Dense_1\"),\n",
    "    Dense(N_CLASSES, activation='softmax', kernel_regularizer=l2(L2), bias_regularizer=l2(L2), name=\"Dense_2\")\n",
    "])"
   ]
  },
  {
   "cell_type": "code",
   "execution_count": 37,
   "metadata": {},
   "outputs": [
    {
     "name": "stdout",
     "output_type": "stream",
     "text": [
      "Model: \"sequential_1\"\n",
      "_________________________________________________________________\n",
      " Layer (type)                Output Shape              Param #   \n",
      "=================================================================\n",
      " LSTM_1 (LSTM)               (None, 100, 32)           5760      \n",
      "                                                                 \n",
      " Flatten (Flatten)           (None, 3200)              0         \n",
      "                                                                 \n",
      " Dense_1 (Dense)             (None, 32)                102432    \n",
      "                                                                 \n",
      " Dense_2 (Dense)             (None, 7)                 231       \n",
      "                                                                 \n",
      "=================================================================\n",
      "Total params: 108,423\n",
      "Trainable params: 108,423\n",
      "Non-trainable params: 0\n",
      "_________________________________________________________________\n"
     ]
    }
   ],
   "source": [
    "model.summary()"
   ]
  },
  {
   "cell_type": "markdown",
   "metadata": {},
   "source": [
    "## Training & Evaluation"
   ]
  },
  {
   "cell_type": "code",
   "execution_count": 38,
   "metadata": {},
   "outputs": [],
   "source": [
    "opt = optimizers.RMSprop(lr=0.0001)\n",
    "\n",
    "model.compile(optimizer=opt,\n",
    "              loss='categorical_crossentropy',\n",
    "              metrics=['accuracy'])"
   ]
  },
  {
   "cell_type": "code",
   "execution_count": 39,
   "metadata": {},
   "outputs": [
    {
     "name": "stdout",
     "output_type": "stream",
     "text": [
      "Train on 20158 samples, validate on 5038 samples\n",
      "Epoch 1/30\n",
      "20158/20158 [==============================] - 15s 759us/sample - loss: 1.4967 - acc: 0.5619 - val_loss: 1.2319 - val_acc: 0.7513\n",
      "Epoch 2/30\n",
      "20158/20158 [==============================] - 10s 474us/sample - loss: 1.0119 - acc: 0.8475 - val_loss: 0.9164 - val_acc: 0.8809\n",
      "Epoch 3/30\n",
      "20158/20158 [==============================] - 10s 489us/sample - loss: 0.7389 - acc: 0.9114 - val_loss: 0.6999 - val_acc: 0.9260\n",
      "Epoch 4/30\n",
      "20158/20158 [==============================] - 14s 677us/sample - loss: 0.5506 - acc: 0.9335 - val_loss: 0.5429 - val_acc: 0.9375\n",
      "Epoch 5/30\n",
      "20158/20158 [==============================] - 9s 455us/sample - loss: 0.4161 - acc: 0.9435 - val_loss: 0.4255 - val_acc: 0.9518\n",
      "Epoch 6/30\n",
      "20158/20158 [==============================] - 10s 509us/sample - loss: 0.3224 - acc: 0.9525 - val_loss: 0.3470 - val_acc: 0.9573\n",
      "Epoch 7/30\n",
      "20158/20158 [==============================] - 13s 664us/sample - loss: 0.2567 - acc: 0.9593 - val_loss: 0.2974 - val_acc: 0.9500\n",
      "Epoch 8/30\n",
      "20158/20158 [==============================] - 20s 972us/sample - loss: 0.2103 - acc: 0.9636 - val_loss: 0.2381 - val_acc: 0.9680\n",
      "Epoch 9/30\n",
      "20158/20158 [==============================] - 17s 853us/sample - loss: 0.1763 - acc: 0.9680 - val_loss: 0.2182 - val_acc: 0.9651\n",
      "Epoch 10/30\n",
      "20158/20158 [==============================] - 15s 733us/sample - loss: 0.1512 - acc: 0.9708 - val_loss: 0.1803 - val_acc: 0.9752\n",
      "Epoch 11/30\n",
      "20158/20158 [==============================] - 13s 659us/sample - loss: 0.1318 - acc: 0.9740 - val_loss: 0.1697 - val_acc: 0.9732\n",
      "Epoch 12/30\n",
      "20158/20158 [==============================] - 13s 622us/sample - loss: 0.1170 - acc: 0.9772 - val_loss: 0.1537 - val_acc: 0.9750\n",
      "Epoch 13/30\n",
      "20158/20158 [==============================] - 12s 594us/sample - loss: 0.1052 - acc: 0.9782 - val_loss: 0.1373 - val_acc: 0.9782\n",
      "Epoch 14/30\n",
      "20158/20158 [==============================] - 16s 790us/sample - loss: 0.0949 - acc: 0.9806 - val_loss: 0.1279 - val_acc: 0.9778\n",
      "Epoch 15/30\n",
      "20158/20158 [==============================] - 15s 761us/sample - loss: 0.0865 - acc: 0.9810 - val_loss: 0.1200 - val_acc: 0.9794\n",
      "Epoch 16/30\n",
      "20158/20158 [==============================] - 20s 1ms/sample - loss: 0.0793 - acc: 0.9829 - val_loss: 0.1084 - val_acc: 0.9819\n",
      "Epoch 17/30\n",
      "20158/20158 [==============================] - 20s 996us/sample - loss: 0.0733 - acc: 0.9837 - val_loss: 0.1061 - val_acc: 0.9802\n",
      "Epoch 18/30\n",
      "20158/20158 [==============================] - 18s 875us/sample - loss: 0.0677 - acc: 0.9846 - val_loss: 0.1000 - val_acc: 0.9825\n",
      "Epoch 19/30\n",
      "20158/20158 [==============================] - 14s 719us/sample - loss: 0.0632 - acc: 0.9856 - val_loss: 0.1004 - val_acc: 0.9803\n",
      "Epoch 20/30\n",
      "20158/20158 [==============================] - 21s 1ms/sample - loss: 0.0593 - acc: 0.9861 - val_loss: 0.0917 - val_acc: 0.9835\n",
      "Epoch 21/30\n",
      "20158/20158 [==============================] - 13s 644us/sample - loss: 0.0557 - acc: 0.9868 - val_loss: 0.1021 - val_acc: 0.9760\n",
      "Epoch 22/30\n",
      "20158/20158 [==============================] - 10s 507us/sample - loss: 0.0523 - acc: 0.9879 - val_loss: 0.0868 - val_acc: 0.9823\n",
      "Epoch 23/30\n",
      "20158/20158 [==============================] - 11s 562us/sample - loss: 0.0496 - acc: 0.9882 - val_loss: 0.0833 - val_acc: 0.9835\n",
      "Epoch 24/30\n",
      "20158/20158 [==============================] - 11s 530us/sample - loss: 0.0467 - acc: 0.9890 - val_loss: 0.0917 - val_acc: 0.9786\n",
      "Epoch 25/30\n",
      "20158/20158 [==============================] - 11s 561us/sample - loss: 0.0444 - acc: 0.9893 - val_loss: 0.0872 - val_acc: 0.9784\n",
      "Epoch 26/30\n",
      "20158/20158 [==============================] - 10s 511us/sample - loss: 0.0420 - acc: 0.9904 - val_loss: 0.0823 - val_acc: 0.9813\n",
      "Epoch 27/30\n",
      "20158/20158 [==============================] - 11s 529us/sample - loss: 0.0403 - acc: 0.9911 - val_loss: 0.0832 - val_acc: 0.9807\n",
      "Epoch 28/30\n",
      "20158/20158 [==============================] - 10s 516us/sample - loss: 0.0382 - acc: 0.9913 - val_loss: 0.0754 - val_acc: 0.9835\n",
      "Epoch 29/30\n",
      "20158/20158 [==============================] - 11s 525us/sample - loss: 0.0370 - acc: 0.9913 - val_loss: 0.0769 - val_acc: 0.9823\n",
      "Epoch 30/30\n",
      "20158/20158 [==============================] - 10s 491us/sample - loss: 0.0350 - acc: 0.9922 - val_loss: 0.0747 - val_acc: 0.9817\n"
     ]
    },
    {
     "data": {
      "text/plain": [
       "<keras.callbacks.History at 0x21d00a11c70>"
      ]
     },
     "execution_count": 39,
     "metadata": {},
     "output_type": "execute_result"
    }
   ],
   "source": [
    "BATCH_SIZE = 1024\n",
    "N_EPOCHS = 30\n",
    "\n",
    "model.fit(X_train, y_train,\n",
    "          batch_size=BATCH_SIZE, epochs=N_EPOCHS,\n",
    "          validation_data=(X_test, y_test))"
   ]
  },
  {
   "cell_type": "markdown",
   "metadata": {},
   "source": [
    "## Confusion Matrix"
   ]
  },
  {
   "cell_type": "code",
   "execution_count": 40,
   "metadata": {},
   "outputs": [
    {
     "data": {
      "image/png": "[encoded data removed]",
      "text/plain": [
       "<Figure size 1152x1008 with 2 Axes>"
      ]
     },
     "metadata": {},
     "output_type": "display_data"
    }
   ],
   "source": [
    "y_pred_ohe = model.predict(X_test)\n",
    "y_pred_labels = np.argmax(y_pred_ohe, axis=1)\n",
    "y_true_labels = np.argmax(y_test, axis=1)\n",
    "confusion_matrix = metrics.confusion_matrix(y_true=y_true_labels, y_pred=y_pred_labels)\n",
    "\n",
    "LABELS = ['Biking' ,' Downstairs', 'Jogging', 'Sitting', 'Standing', 'Upstairs', 'Walking']\n",
    "\n",
    "plt.figure(figsize=(16, 14))\n",
    "sns.set(style='whitegrid', palette='muted', font_scale=1.5)\n",
    "sns.heatmap(confusion_matrix, xticklabels=LABELS, yticklabels=LABELS, annot=True, fmt=\"d\");\n",
    "plt.title(\"Confusion matrix\")\n",
    "plt.ylabel('True label')\n",
    "plt.xlabel('Predicted label')\n",
    "plt.show()"
   ]
  },
  {
   "cell_type": "markdown",
   "metadata": {},
   "source": [
    "## Exporting the model "
   ]
  },
  {
   "cell_type": "markdown",
   "metadata": {},
   "source": [
    "Finally we export the trained model in a format which easily can be used in our android application for on-device inference. The exported model will be named \"frozen_HAR.pb\" and be stored under models directory:"
   ]
  },
  {
   "cell_type": "code",
   "execution_count": null,
   "metadata": {},
   "outputs": [],
   "source": [
    "output_node_name  = [node.op.name for node in model.outputs]\n",
    "output_node_name"
   ]
  },
  {
   "cell_type": "code",
   "execution_count": 47,
   "metadata": {},
   "outputs": [
    {
     "ename": "IndexError",
     "evalue": "tuple index out of range",
     "output_type": "error",
     "traceback": [
      "\u001b[1;31m---------------------------------------------------------------------------\u001b[0m",
      "\u001b[1;31mIndexError\u001b[0m                                Traceback (most recent call last)",
      "Input \u001b[1;32mIn [47]\u001b[0m, in \u001b[0;36m<cell line: 16>\u001b[1;34m()\u001b[0m\n\u001b[0;32m     13\u001b[0m saver \u001b[38;5;241m=\u001b[39m tf\u001b[38;5;241m.\u001b[39mtrain\u001b[38;5;241m.\u001b[39mSaver()\n\u001b[0;32m     14\u001b[0m saver\u001b[38;5;241m.\u001b[39msave(K\u001b[38;5;241m.\u001b[39mget_session(), \u001b[38;5;124m'\u001b[39m\u001b[38;5;124mmodels/\u001b[39m\u001b[38;5;124m'\u001b[39m \u001b[38;5;241m+\u001b[39m MODEL_NAME \u001b[38;5;241m+\u001b[39m \u001b[38;5;124m'\u001b[39m\u001b[38;5;124m.chkp\u001b[39m\u001b[38;5;124m'\u001b[39m)\n\u001b[1;32m---> 16\u001b[0m \u001b[43mfreeze_graph\u001b[49m\u001b[38;5;241;43m.\u001b[39;49m\u001b[43mfreeze_graph\u001b[49m\u001b[43m(\u001b[49m\u001b[38;5;124;43m'\u001b[39;49m\u001b[38;5;124;43mmodels/\u001b[39;49m\u001b[38;5;124;43m'\u001b[39;49m\u001b[43m \u001b[49m\u001b[38;5;241;43m+\u001b[39;49m\u001b[43m \u001b[49m\u001b[43mMODEL_NAME\u001b[49m\u001b[43m \u001b[49m\u001b[38;5;241;43m+\u001b[39;49m\u001b[43m \u001b[49m\u001b[38;5;124;43m'\u001b[39;49m\u001b[38;5;124;43m_graph.pbtxt\u001b[39;49m\u001b[38;5;124;43m'\u001b[39;49m\u001b[43m,\u001b[49m\u001b[43m \u001b[49m\u001b[38;5;28;43;01mNone\u001b[39;49;00m\u001b[43m,\u001b[49m\u001b[43m \u001b[49m\u001b[43m\\\u001b[49m\n\u001b[0;32m     17\u001b[0m \u001b[43m    \u001b[49m\u001b[38;5;28;43;01mFalse\u001b[39;49;00m\u001b[43m,\u001b[49m\u001b[43m \u001b[49m\u001b[38;5;124;43m'\u001b[39;49m\u001b[38;5;124;43mmodels/\u001b[39;49m\u001b[38;5;124;43m'\u001b[39;49m\u001b[43m \u001b[49m\u001b[38;5;241;43m+\u001b[39;49m\u001b[43m \u001b[49m\u001b[43mMODEL_NAME\u001b[49m\u001b[43m \u001b[49m\u001b[38;5;241;43m+\u001b[39;49m\u001b[43m \u001b[49m\u001b[38;5;124;43m'\u001b[39;49m\u001b[38;5;124;43m.chkp\u001b[39;49m\u001b[38;5;124;43m'\u001b[39;49m\u001b[43m,\u001b[49m\u001b[43m \u001b[49m\u001b[38;5;124;43m'\u001b[39;49m\u001b[38;5;124;43m,\u001b[39;49m\u001b[38;5;124;43m'\u001b[39;49m\u001b[38;5;241;43m.\u001b[39;49m\u001b[43mjoin\u001b[49m\u001b[43m(\u001b[49m\u001b[43moutput_node_names\u001b[49m\u001b[43m)\u001b[49m\u001b[43m,\u001b[49m\u001b[43m \u001b[49m\u001b[43m\\\u001b[49m\n\u001b[0;32m     18\u001b[0m \u001b[43m    \u001b[49m\u001b[38;5;124;43m\"\u001b[39;49m\u001b[38;5;124;43msave/restore_all\u001b[39;49m\u001b[38;5;124;43m\"\u001b[39;49m\u001b[43m,\u001b[49m\u001b[43m \u001b[49m\u001b[38;5;124;43m\"\u001b[39;49m\u001b[38;5;124;43msave/Const:0\u001b[39;49m\u001b[38;5;124;43m\"\u001b[39;49m\u001b[43m,\u001b[49m\u001b[43m \u001b[49m\u001b[43m\\\u001b[49m\n\u001b[0;32m     19\u001b[0m \u001b[43m    \u001b[49m\u001b[38;5;124;43m'\u001b[39;49m\u001b[38;5;124;43mmodels/frozen_\u001b[39;49m\u001b[38;5;124;43m'\u001b[39;49m\u001b[43m \u001b[49m\u001b[38;5;241;43m+\u001b[39;49m\u001b[43m \u001b[49m\u001b[43mMODEL_NAME\u001b[49m\u001b[43m \u001b[49m\u001b[38;5;241;43m+\u001b[39;49m\u001b[43m \u001b[49m\u001b[38;5;124;43m'\u001b[39;49m\u001b[38;5;124;43m.pb\u001b[39;49m\u001b[38;5;124;43m'\u001b[39;49m\u001b[43m,\u001b[49m\u001b[43m \u001b[49m\u001b[38;5;28;43;01mTrue\u001b[39;49;00m\u001b[43m,\u001b[49m\u001b[43m \u001b[49m\u001b[38;5;124;43m\"\u001b[39;49m\u001b[38;5;124;43m\"\u001b[39;49m\u001b[43m)\u001b[49m\n",
      "File \u001b[1;32mc:\\Users\\AppOctet\\AppData\\Local\\Programs\\Python\\Python39\\lib\\site-packages\\tensorflow\\python\\tools\\freeze_graph.py:342\u001b[0m, in \u001b[0;36mfreeze_graph\u001b[1;34m(input_graph, input_saver, input_binary, input_checkpoint, output_node_names, restore_op_name, filename_tensor_name, output_graph, clear_devices, initializer_nodes, variable_names_whitelist, variable_names_denylist, input_meta_graph, input_saved_model_dir, saved_model_tags, checkpoint_version)\u001b[0m\n\u001b[0;32m    340\u001b[0m \u001b[38;5;28;01mif\u001b[39;00m input_saver:\n\u001b[0;32m    341\u001b[0m   input_saver_def \u001b[38;5;241m=\u001b[39m _parse_input_saver_proto(input_saver, input_binary)\n\u001b[1;32m--> 342\u001b[0m \u001b[38;5;28;01mreturn\u001b[39;00m \u001b[43mfreeze_graph_with_def_protos\u001b[49m\u001b[43m(\u001b[49m\n\u001b[0;32m    343\u001b[0m \u001b[43m    \u001b[49m\u001b[43minput_graph_def\u001b[49m\u001b[43m,\u001b[49m\n\u001b[0;32m    344\u001b[0m \u001b[43m    \u001b[49m\u001b[43minput_saver_def\u001b[49m\u001b[43m,\u001b[49m\n\u001b[0;32m    345\u001b[0m \u001b[43m    \u001b[49m\u001b[43minput_checkpoint\u001b[49m\u001b[43m,\u001b[49m\n\u001b[0;32m    346\u001b[0m \u001b[43m    \u001b[49m\u001b[43moutput_node_names\u001b[49m\u001b[43m,\u001b[49m\n\u001b[0;32m    347\u001b[0m \u001b[43m    \u001b[49m\u001b[43mrestore_op_name\u001b[49m\u001b[43m,\u001b[49m\n\u001b[0;32m    348\u001b[0m \u001b[43m    \u001b[49m\u001b[43mfilename_tensor_name\u001b[49m\u001b[43m,\u001b[49m\n\u001b[0;32m    349\u001b[0m \u001b[43m    \u001b[49m\u001b[43moutput_graph\u001b[49m\u001b[43m,\u001b[49m\n\u001b[0;32m    350\u001b[0m \u001b[43m    \u001b[49m\u001b[43mclear_devices\u001b[49m\u001b[43m,\u001b[49m\n\u001b[0;32m    351\u001b[0m \u001b[43m    \u001b[49m\u001b[43minitializer_nodes\u001b[49m\u001b[43m,\u001b[49m\n\u001b[0;32m    352\u001b[0m \u001b[43m    \u001b[49m\u001b[43mvariable_names_whitelist\u001b[49m\u001b[43m,\u001b[49m\n\u001b[0;32m    353\u001b[0m \u001b[43m    \u001b[49m\u001b[43mvariable_names_denylist\u001b[49m\u001b[43m,\u001b[49m\n\u001b[0;32m    354\u001b[0m \u001b[43m    \u001b[49m\u001b[43minput_meta_graph_def\u001b[49m\u001b[43m,\u001b[49m\n\u001b[0;32m    355\u001b[0m \u001b[43m    \u001b[49m\u001b[43minput_saved_model_dir\u001b[49m\u001b[43m,\u001b[49m\n\u001b[0;32m    356\u001b[0m \u001b[43m    \u001b[49m\u001b[43m[\u001b[49m\u001b[43mtag\u001b[49m\u001b[43m \u001b[49m\u001b[38;5;28;43;01mfor\u001b[39;49;00m\u001b[43m \u001b[49m\u001b[43mtag\u001b[49m\u001b[43m \u001b[49m\u001b[38;5;129;43;01min\u001b[39;49;00m\u001b[43m \u001b[49m\u001b[43msaved_model_tags\u001b[49m\u001b[38;5;241;43m.\u001b[39;49m\u001b[43mreplace\u001b[49m\u001b[43m(\u001b[49m\u001b[38;5;124;43m\"\u001b[39;49m\u001b[38;5;124;43m \u001b[39;49m\u001b[38;5;124;43m\"\u001b[39;49m\u001b[43m,\u001b[49m\u001b[43m \u001b[49m\u001b[38;5;124;43m\"\u001b[39;49m\u001b[38;5;124;43m\"\u001b[39;49m\u001b[43m)\u001b[49m\u001b[38;5;241;43m.\u001b[39;49m\u001b[43msplit\u001b[49m\u001b[43m(\u001b[49m\u001b[38;5;124;43m\"\u001b[39;49m\u001b[38;5;124;43m,\u001b[39;49m\u001b[38;5;124;43m\"\u001b[39;49m\u001b[43m)\u001b[49m\u001b[43m \u001b[49m\u001b[38;5;28;43;01mif\u001b[39;49;00m\u001b[43m \u001b[49m\u001b[43mtag\u001b[49m\u001b[43m]\u001b[49m\u001b[43m,\u001b[49m\n\u001b[0;32m    357\u001b[0m \u001b[43m    \u001b[49m\u001b[43mcheckpoint_version\u001b[49m\u001b[38;5;241;43m=\u001b[39;49m\u001b[43mcheckpoint_version\u001b[49m\u001b[43m)\u001b[49m\n",
      "File \u001b[1;32mc:\\Users\\AppOctet\\AppData\\Local\\Programs\\Python\\Python39\\lib\\site-packages\\tensorflow\\python\\tools\\freeze_graph.py:185\u001b[0m, in \u001b[0;36mfreeze_graph_with_def_protos\u001b[1;34m(***failed resolving arguments***)\u001b[0m\n\u001b[0;32m    182\u001b[0m   var_list[key] \u001b[38;5;241m=\u001b[39m tensor\n\u001b[0;32m    184\u001b[0m \u001b[38;5;28;01mtry\u001b[39;00m:\n\u001b[1;32m--> 185\u001b[0m   saver \u001b[38;5;241m=\u001b[39m \u001b[43msaver_lib\u001b[49m\u001b[38;5;241;43m.\u001b[39;49m\u001b[43mSaver\u001b[49m\u001b[43m(\u001b[49m\n\u001b[0;32m    186\u001b[0m \u001b[43m      \u001b[49m\u001b[43mvar_list\u001b[49m\u001b[38;5;241;43m=\u001b[39;49m\u001b[43mvar_list\u001b[49m\u001b[43m,\u001b[49m\u001b[43m \u001b[49m\u001b[43mwrite_version\u001b[49m\u001b[38;5;241;43m=\u001b[39;49m\u001b[43mcheckpoint_version\u001b[49m\u001b[43m)\u001b[49m\n\u001b[0;32m    187\u001b[0m \u001b[38;5;28;01mexcept\u001b[39;00m \u001b[38;5;167;01mTypeError\u001b[39;00m \u001b[38;5;28;01mas\u001b[39;00m e:\n\u001b[0;32m    188\u001b[0m   \u001b[38;5;66;03m# `var_list` is required to be a map of variable names to Variable\u001b[39;00m\n\u001b[0;32m    189\u001b[0m   \u001b[38;5;66;03m# tensors. Partition variables are Identity tensors that cannot be\u001b[39;00m\n\u001b[0;32m    190\u001b[0m   \u001b[38;5;66;03m# handled by Saver.\u001b[39;00m\n\u001b[0;32m    191\u001b[0m   \u001b[38;5;28;01mif\u001b[39;00m has_partition_var:\n",
      "File \u001b[1;32mc:\\Users\\AppOctet\\AppData\\Local\\Programs\\Python\\Python39\\lib\\site-packages\\tensorflow\\python\\training\\saver.py:919\u001b[0m, in \u001b[0;36mSaver.__init__\u001b[1;34m(self, var_list, reshape, sharded, max_to_keep, keep_checkpoint_every_n_hours, name, restore_sequentially, saver_def, builder, defer_build, allow_empty, write_version, pad_step_number, save_relative_paths, filename)\u001b[0m\n\u001b[0;32m    916\u001b[0m   \u001b[38;5;28mself\u001b[39m\u001b[38;5;241m.\u001b[39m_next_checkpoint_time \u001b[38;5;241m=\u001b[39m (\n\u001b[0;32m    917\u001b[0m       time\u001b[38;5;241m.\u001b[39mtime() \u001b[38;5;241m+\u001b[39m \u001b[38;5;28mself\u001b[39m\u001b[38;5;241m.\u001b[39m_keep_checkpoint_every_n_hours \u001b[38;5;241m*\u001b[39m \u001b[38;5;241m3600\u001b[39m)\n\u001b[0;32m    918\u001b[0m \u001b[38;5;28;01melif\u001b[39;00m \u001b[38;5;129;01mnot\u001b[39;00m defer_build:\n\u001b[1;32m--> 919\u001b[0m   \u001b[38;5;28;43mself\u001b[39;49m\u001b[38;5;241;43m.\u001b[39;49m\u001b[43mbuild\u001b[49m\u001b[43m(\u001b[49m\u001b[43m)\u001b[49m\n\u001b[0;32m    920\u001b[0m \u001b[38;5;28;01mif\u001b[39;00m \u001b[38;5;28mself\u001b[39m\u001b[38;5;241m.\u001b[39msaver_def:\n\u001b[0;32m    921\u001b[0m   \u001b[38;5;28mself\u001b[39m\u001b[38;5;241m.\u001b[39m_check_saver_def()\n",
      "File \u001b[1;32mc:\\Users\\AppOctet\\AppData\\Local\\Programs\\Python\\Python39\\lib\\site-packages\\tensorflow\\python\\training\\saver.py:931\u001b[0m, in \u001b[0;36mSaver.build\u001b[1;34m(self)\u001b[0m\n\u001b[0;32m    929\u001b[0m \u001b[38;5;28;01mif\u001b[39;00m context\u001b[38;5;241m.\u001b[39mexecuting_eagerly():\n\u001b[0;32m    930\u001b[0m   \u001b[38;5;28;01mraise\u001b[39;00m \u001b[38;5;167;01mRuntimeError\u001b[39;00m(\u001b[38;5;124m\"\u001b[39m\u001b[38;5;124mUse save/restore instead of build in eager mode.\u001b[39m\u001b[38;5;124m\"\u001b[39m)\n\u001b[1;32m--> 931\u001b[0m \u001b[38;5;28;43mself\u001b[39;49m\u001b[38;5;241;43m.\u001b[39;49m\u001b[43m_build\u001b[49m\u001b[43m(\u001b[49m\u001b[38;5;28;43mself\u001b[39;49m\u001b[38;5;241;43m.\u001b[39;49m\u001b[43m_filename\u001b[49m\u001b[43m,\u001b[49m\u001b[43m \u001b[49m\u001b[43mbuild_save\u001b[49m\u001b[38;5;241;43m=\u001b[39;49m\u001b[38;5;28;43;01mTrue\u001b[39;49;00m\u001b[43m,\u001b[49m\u001b[43m \u001b[49m\u001b[43mbuild_restore\u001b[49m\u001b[38;5;241;43m=\u001b[39;49m\u001b[38;5;28;43;01mTrue\u001b[39;49;00m\u001b[43m)\u001b[49m\n",
      "File \u001b[1;32mc:\\Users\\AppOctet\\AppData\\Local\\Programs\\Python\\Python39\\lib\\site-packages\\tensorflow\\python\\training\\saver.py:959\u001b[0m, in \u001b[0;36mSaver._build\u001b[1;34m(self, checkpoint_path, build_save, build_restore)\u001b[0m\n\u001b[0;32m    956\u001b[0m       \u001b[38;5;28;01mraise\u001b[39;00m \u001b[38;5;167;01mValueError\u001b[39;00m(\u001b[38;5;124m\"\u001b[39m\u001b[38;5;124mNo variables to save\u001b[39m\u001b[38;5;124m\"\u001b[39m)\n\u001b[0;32m    957\u001b[0m   \u001b[38;5;28mself\u001b[39m\u001b[38;5;241m.\u001b[39m_is_empty \u001b[38;5;241m=\u001b[39m \u001b[38;5;28;01mFalse\u001b[39;00m\n\u001b[1;32m--> 959\u001b[0m   \u001b[38;5;28mself\u001b[39m\u001b[38;5;241m.\u001b[39msaver_def \u001b[38;5;241m=\u001b[39m \u001b[38;5;28;43mself\u001b[39;49m\u001b[38;5;241;43m.\u001b[39;49m\u001b[43m_builder\u001b[49m\u001b[38;5;241;43m.\u001b[39;49m\u001b[43m_build_internal\u001b[49m\u001b[43m(\u001b[49m\u001b[43m  \u001b[49m\u001b[38;5;66;43;03m# pylint: disable=protected-access\u001b[39;49;00m\n\u001b[0;32m    960\u001b[0m \u001b[43m      \u001b[49m\u001b[38;5;28;43mself\u001b[39;49m\u001b[38;5;241;43m.\u001b[39;49m\u001b[43m_var_list\u001b[49m\u001b[43m,\u001b[49m\n\u001b[0;32m    961\u001b[0m \u001b[43m      \u001b[49m\u001b[43mreshape\u001b[49m\u001b[38;5;241;43m=\u001b[39;49m\u001b[38;5;28;43mself\u001b[39;49m\u001b[38;5;241;43m.\u001b[39;49m\u001b[43m_reshape\u001b[49m\u001b[43m,\u001b[49m\n\u001b[0;32m    962\u001b[0m \u001b[43m      \u001b[49m\u001b[43msharded\u001b[49m\u001b[38;5;241;43m=\u001b[39;49m\u001b[38;5;28;43mself\u001b[39;49m\u001b[38;5;241;43m.\u001b[39;49m\u001b[43m_sharded\u001b[49m\u001b[43m,\u001b[49m\n\u001b[0;32m    963\u001b[0m \u001b[43m      \u001b[49m\u001b[43mmax_to_keep\u001b[49m\u001b[38;5;241;43m=\u001b[39;49m\u001b[38;5;28;43mself\u001b[39;49m\u001b[38;5;241;43m.\u001b[39;49m\u001b[43m_max_to_keep\u001b[49m\u001b[43m,\u001b[49m\n\u001b[0;32m    964\u001b[0m \u001b[43m      \u001b[49m\u001b[43mkeep_checkpoint_every_n_hours\u001b[49m\u001b[38;5;241;43m=\u001b[39;49m\u001b[38;5;28;43mself\u001b[39;49m\u001b[38;5;241;43m.\u001b[39;49m\u001b[43m_keep_checkpoint_every_n_hours\u001b[49m\u001b[43m,\u001b[49m\n\u001b[0;32m    965\u001b[0m \u001b[43m      \u001b[49m\u001b[43mname\u001b[49m\u001b[38;5;241;43m=\u001b[39;49m\u001b[38;5;28;43mself\u001b[39;49m\u001b[38;5;241;43m.\u001b[39;49m\u001b[43m_name\u001b[49m\u001b[43m,\u001b[49m\n\u001b[0;32m    966\u001b[0m \u001b[43m      \u001b[49m\u001b[43mrestore_sequentially\u001b[49m\u001b[38;5;241;43m=\u001b[39;49m\u001b[38;5;28;43mself\u001b[39;49m\u001b[38;5;241;43m.\u001b[39;49m\u001b[43m_restore_sequentially\u001b[49m\u001b[43m,\u001b[49m\n\u001b[0;32m    967\u001b[0m \u001b[43m      \u001b[49m\u001b[43mfilename\u001b[49m\u001b[38;5;241;43m=\u001b[39;49m\u001b[43mcheckpoint_path\u001b[49m\u001b[43m,\u001b[49m\n\u001b[0;32m    968\u001b[0m \u001b[43m      \u001b[49m\u001b[43mbuild_save\u001b[49m\u001b[38;5;241;43m=\u001b[39;49m\u001b[43mbuild_save\u001b[49m\u001b[43m,\u001b[49m\n\u001b[0;32m    969\u001b[0m \u001b[43m      \u001b[49m\u001b[43mbuild_restore\u001b[49m\u001b[38;5;241;43m=\u001b[39;49m\u001b[43mbuild_restore\u001b[49m\u001b[43m)\u001b[49m\n\u001b[0;32m    970\u001b[0m \u001b[38;5;28;01melif\u001b[39;00m \u001b[38;5;28mself\u001b[39m\u001b[38;5;241m.\u001b[39msaver_def \u001b[38;5;129;01mand\u001b[39;00m \u001b[38;5;28mself\u001b[39m\u001b[38;5;241m.\u001b[39m_name:\n\u001b[0;32m    971\u001b[0m   \u001b[38;5;66;03m# Since self._name is used as a name_scope by builder(), we are\u001b[39;00m\n\u001b[0;32m    972\u001b[0m   \u001b[38;5;66;03m# overloading the use of this field to represent the \"import_scope\" as\u001b[39;00m\n\u001b[0;32m    973\u001b[0m   \u001b[38;5;66;03m# well.\u001b[39;00m\n\u001b[0;32m    974\u001b[0m   \u001b[38;5;28mself\u001b[39m\u001b[38;5;241m.\u001b[39msaver_def\u001b[38;5;241m.\u001b[39mfilename_tensor_name \u001b[38;5;241m=\u001b[39m ops\u001b[38;5;241m.\u001b[39mprepend_name_scope(\n\u001b[0;32m    975\u001b[0m       \u001b[38;5;28mself\u001b[39m\u001b[38;5;241m.\u001b[39msaver_def\u001b[38;5;241m.\u001b[39mfilename_tensor_name, \u001b[38;5;28mself\u001b[39m\u001b[38;5;241m.\u001b[39m_name)\n",
      "File \u001b[1;32mc:\\Users\\AppOctet\\AppData\\Local\\Programs\\Python\\Python39\\lib\\site-packages\\tensorflow\\python\\training\\saver.py:503\u001b[0m, in \u001b[0;36mBaseSaverBuilder._build_internal\u001b[1;34m(self, names_to_saveables, reshape, sharded, max_to_keep, keep_checkpoint_every_n_hours, name, restore_sequentially, filename, build_save, build_restore)\u001b[0m\n\u001b[0;32m    498\u001b[0m \u001b[38;5;28;01mif\u001b[39;00m \u001b[38;5;129;01mnot\u001b[39;00m context\u001b[38;5;241m.\u001b[39mexecuting_eagerly() \u001b[38;5;129;01mand\u001b[39;00m (\u001b[38;5;129;01mnot\u001b[39;00m build_save \u001b[38;5;129;01mor\u001b[39;00m\n\u001b[0;32m    499\u001b[0m                                         \u001b[38;5;129;01mnot\u001b[39;00m build_restore):\n\u001b[0;32m    500\u001b[0m   \u001b[38;5;28;01mraise\u001b[39;00m \u001b[38;5;167;01mValueError\u001b[39;00m(\u001b[38;5;124m\"\u001b[39m\u001b[38;5;124msave and restore operations need to be built together \u001b[39m\u001b[38;5;124m\"\u001b[39m\n\u001b[0;32m    501\u001b[0m                    \u001b[38;5;124m\"\u001b[39m\u001b[38;5;124m when eager execution is not enabled.\u001b[39m\u001b[38;5;124m\"\u001b[39m)\n\u001b[1;32m--> 503\u001b[0m saveables \u001b[38;5;241m=\u001b[39m \u001b[43msaveable_object_util\u001b[49m\u001b[38;5;241;43m.\u001b[39;49m\u001b[43mvalidate_and_slice_inputs\u001b[49m\u001b[43m(\u001b[49m\n\u001b[0;32m    504\u001b[0m \u001b[43m    \u001b[49m\u001b[43mnames_to_saveables\u001b[49m\u001b[43m)\u001b[49m\n\u001b[0;32m    505\u001b[0m \u001b[38;5;28;01mif\u001b[39;00m max_to_keep \u001b[38;5;129;01mis\u001b[39;00m \u001b[38;5;28;01mNone\u001b[39;00m:\n\u001b[0;32m    506\u001b[0m   max_to_keep \u001b[38;5;241m=\u001b[39m \u001b[38;5;241m0\u001b[39m\n",
      "File \u001b[1;32mc:\\Users\\AppOctet\\AppData\\Local\\Programs\\Python\\Python39\\lib\\site-packages\\tensorflow\\python\\training\\saving\\saveable_object_util.py:356\u001b[0m, in \u001b[0;36mvalidate_and_slice_inputs\u001b[1;34m(names_to_saveables)\u001b[0m\n\u001b[0;32m    352\u001b[0m seen_ops \u001b[38;5;241m=\u001b[39m object_identity\u001b[38;5;241m.\u001b[39mObjectIdentitySet()\n\u001b[0;32m    353\u001b[0m \u001b[38;5;28;01mfor\u001b[39;00m name, op \u001b[38;5;129;01min\u001b[39;00m \u001b[38;5;28msorted\u001b[39m(names_to_saveables\u001b[38;5;241m.\u001b[39mitems(),\n\u001b[0;32m    354\u001b[0m                        \u001b[38;5;66;03m# Avoid comparing ops, sort only by name.\u001b[39;00m\n\u001b[0;32m    355\u001b[0m                        key\u001b[38;5;241m=\u001b[39m\u001b[38;5;28;01mlambda\u001b[39;00m x: x[\u001b[38;5;241m0\u001b[39m]):\n\u001b[1;32m--> 356\u001b[0m   \u001b[38;5;28;01mfor\u001b[39;00m converted_saveable_object \u001b[38;5;129;01min\u001b[39;00m saveable_objects_for_op(op, name):\n\u001b[0;32m    357\u001b[0m     _add_saveable(saveables, seen_ops, converted_saveable_object)\n\u001b[0;32m    358\u001b[0m \u001b[38;5;28;01mreturn\u001b[39;00m saveables\n",
      "File \u001b[1;32mc:\\Users\\AppOctet\\AppData\\Local\\Programs\\Python\\Python39\\lib\\site-packages\\tensorflow\\python\\training\\saving\\saveable_object_util.py:219\u001b[0m, in \u001b[0;36msaveable_objects_for_op\u001b[1;34m(op, name)\u001b[0m\n\u001b[0;32m    217\u001b[0m   \u001b[38;5;28;01myield\u001b[39;00m ReferenceVariableSaveable(variable, \u001b[38;5;124m\"\u001b[39m\u001b[38;5;124m\"\u001b[39m, name)\n\u001b[0;32m    218\u001b[0m \u001b[38;5;28;01melse\u001b[39;00m:\n\u001b[1;32m--> 219\u001b[0m   \u001b[38;5;28;01myield\u001b[39;00m \u001b[43mResourceVariableSaveable\u001b[49m\u001b[43m(\u001b[49m\u001b[43mvariable\u001b[49m\u001b[43m,\u001b[49m\u001b[43m \u001b[49m\u001b[38;5;124;43m\"\u001b[39;49m\u001b[38;5;124;43m\"\u001b[39;49m\u001b[43m,\u001b[49m\u001b[43m \u001b[49m\u001b[43mname\u001b[49m\u001b[43m)\u001b[49m\n",
      "File \u001b[1;32mc:\\Users\\AppOctet\\AppData\\Local\\Programs\\Python\\Python39\\lib\\site-packages\\tensorflow\\python\\training\\saving\\saveable_object_util.py:91\u001b[0m, in \u001b[0;36mResourceVariableSaveable.__init__\u001b[1;34m(self, var, slice_spec, name)\u001b[0m\n\u001b[0;32m     89\u001b[0m \u001b[38;5;28mself\u001b[39m\u001b[38;5;241m.\u001b[39m_var_shape \u001b[38;5;241m=\u001b[39m var\u001b[38;5;241m.\u001b[39mshape\n\u001b[0;32m     90\u001b[0m \u001b[38;5;28;01mif\u001b[39;00m \u001b[38;5;28misinstance\u001b[39m(var, ops\u001b[38;5;241m.\u001b[39mTensor):\n\u001b[1;32m---> 91\u001b[0m   \u001b[38;5;28mself\u001b[39m\u001b[38;5;241m.\u001b[39mhandle_op \u001b[38;5;241m=\u001b[39m \u001b[43mvar\u001b[49m\u001b[38;5;241;43m.\u001b[39;49m\u001b[43mop\u001b[49m\u001b[38;5;241;43m.\u001b[39;49m\u001b[43minputs\u001b[49m\u001b[43m[\u001b[49m\u001b[38;5;241;43m0\u001b[39;49m\u001b[43m]\u001b[49m\n\u001b[0;32m     92\u001b[0m   tensor \u001b[38;5;241m=\u001b[39m var\n\u001b[0;32m     93\u001b[0m \u001b[38;5;28;01melif\u001b[39;00m resource_variable_ops\u001b[38;5;241m.\u001b[39mis_resource_variable(var):\n",
      "\u001b[1;31mIndexError\u001b[0m: tuple index out of range"
     ]
    }
   ],
   "source": [
    "import tensorflow.compat.v1 as tf\n",
    "tf.disable_v2_behavior()\n",
    "\n",
    "from keras import backend as K\n",
    "from tensorflow.python.tools import freeze_graph\n",
    "\n",
    "input_node_name = model.inputs[0].op.name\n",
    "output_node_names  = [node.op.name for node in model.outputs]\n",
    "MODEL_NAME = \"HAR\"\n",
    "\n",
    "tf.train.write_graph(K.get_session().graph_def, 'models', \\\n",
    "        MODEL_NAME + '_graph.pbtxt')\n",
    "saver = tf.train.Saver()\n",
    "saver.save(K.get_session(), 'models/' + MODEL_NAME + '.chkp')\n",
    "\n",
    "freeze_graph.freeze_graph('models/' + MODEL_NAME + '_graph.pbtxt', None, \\\n",
    "    False, 'models/' + MODEL_NAME + '.chkp', ','.join(output_node_names), \\\n",
    "    \"save/restore_all\", \"save/Const:0\", \\\n",
    "    'models/frozen_' + MODEL_NAME + '.pb', True, \"\")\n"
   ]
  },
  {
   "cell_type": "code",
   "execution_count": null,
   "metadata": {},
   "outputs": [],
   "source": []
  }
 ],
 "metadata": {
  "kernelspec": {
   "display_name": "Python 3",
   "language": "python",
   "name": "python3"
  },
  "language_info": {
   "codemirror_mode": {
    "name": "ipython",
    "version": 3
   },
   "file_extension": ".py",
   "mimetype": "text/x-python",
   "name": "python",
   "nbconvert_exporter": "python",
   "pygments_lexer": "ipython3",
   "version": "3.9.8"
  }
 },
 "nbformat": 4,
 "nbformat_minor": 2
}
